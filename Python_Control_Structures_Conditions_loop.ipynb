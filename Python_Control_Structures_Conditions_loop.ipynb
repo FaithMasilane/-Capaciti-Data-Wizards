{
 "cells": [
  {
   "cell_type": "code",
   "execution_count": 1,
   "id": "315a5f34",
   "metadata": {},
   "outputs": [
    {
     "name": "stdout",
     "output_type": "stream",
     "text": [
      "Person 1 (age 16) is NOT eligible for a scholarship.\n",
      "Person 2 (age 19) is eligible for a scholarship.\n",
      "Person 3 (age 22) is eligible for a scholarship.\n",
      "Person 4 (age 15) is NOT eligible for a scholarship.\n",
      "Person 5 (age 18) is NOT eligible for a scholarship.\n",
      "Person 6 (age 21) is eligible for a scholarship.\n",
      "Person 7 (age 17) is NOT eligible for a scholarship.\n"
     ]
    }
   ],
   "source": [
    "# Group Project: Scholarship Eligibility Checker\n",
    "\n",
    "# List of ages to check\n",
    "ages = [16, 19, 22, 15, 18, 21, 17] \n",
    "\n",
    "# Loop through the list and print eligibility\n",
    "for idx, age in enumerate(ages):\n",
    "    if age > 18:\n",
    "        print(f\"Person {idx+1} (age {age}) is eligible for a scholarship.\")\n",
    "    else:\n",
    "        print(f\"Person {idx+1} (age {age}) is NOT eligible for a scholarship.\")"
   ]
  },
  {
   "cell_type": "code",
   "execution_count": 2,
   "id": "5bc42353",
   "metadata": {},
   "outputs": [],
   "source": [
    "import  pandas as pd\n",
    "import numpy as np\n"
   ]
  },
  {
   "cell_type": "code",
   "execution_count": null,
   "id": "3b778a6d",
   "metadata": {},
   "outputs": [
    {
     "name": "stdout",
     "output_type": "stream",
     "text": [
      "Student ages: [15, 18, 19, 22, 17, 20]\n",
      "Age 15: Not eligible for scholarship\n",
      "Age 18: Not eligible for scholarship\n",
      "Age 19: Eligible for scholarship\n",
      "Age 22: Eligible for scholarship\n",
      "Age 17: Not eligible for scholarship\n",
      "Age 20: Eligible for scholarship\n"
     ]
    }
   ],
   "source": [
    "# List of student ages\n",
    "student_ages = [15, 18, 19, 22, 17, 20] \n",
    "print(\"Student ages:\", student_ages)\n",
    "\n",
    "# Loop through each age and check eligibility\n",
    "for age in student_ages:\n",
    "    if age > 18:\n",
    "        print(f\"Age {age}: Eligible for scholarship\")\n",
    "    else:\n",
    "        print(f\"Age {age}: Not eligible for scholarship\")\n",
    "\n"
   ]
  }
 ],
 "metadata": {
  "kernelspec": {
   "display_name": "Python 3",
   "language": "python",
   "name": "python3"
  },
  "language_info": {
   "codemirror_mode": {
    "name": "ipython",
    "version": 3
   },
   "file_extension": ".py",
   "mimetype": "text/x-python",
   "name": "python",
   "nbconvert_exporter": "python",
   "pygments_lexer": "ipython3",
   "version": "3.13.3"
  }
 },
 "nbformat": 4,
 "nbformat_minor": 5
}
