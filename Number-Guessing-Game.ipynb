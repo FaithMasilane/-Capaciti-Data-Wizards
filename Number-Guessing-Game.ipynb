{
 "cells": [
  {
   "cell_type": "code",
   "execution_count": 1,
   "id": "f9de87f1",
   "metadata": {},
   "outputs": [],
   "source": [
    "import pandas as pd\n",
    "import numpy  as np\n",
    "import random "
   ]
  },
  {
   "cell_type": "code",
   "execution_count": 2,
   "id": "291075a4",
   "metadata": {},
   "outputs": [
    {
     "name": "stdout",
     "output_type": "stream",
     "text": [
      "74\n"
     ]
    }
   ],
   "source": [
    "import random\n",
    "\n",
    "number = random.randint(1, 100)\n",
    "print(number)  \n"
   ]
  },
  {
   "cell_type": "code",
   "execution_count": null,
   "id": "81bdbc97",
   "metadata": {},
   "outputs": [
    {
     "name": "stdout",
     "output_type": "stream",
     "text": [
      "Please enter a valid number.\n",
      "Too low!\n",
      "Please enter a valid number.\n",
      "Please enter a valid number.\n",
      "Please enter a valid number.\n",
      "Please enter a valid number.\n",
      "Please enter a valid number.\n",
      "Please enter a valid number.\n",
      "Please enter a valid number.\n",
      "Please enter a valid number.\n",
      "Please enter a valid number.\n",
      "Please enter a valid number.\n",
      "Please enter a valid number.\n",
      "Please enter a valid number.\n",
      "Please enter a valid number.\n",
      "Please enter a valid number.\n",
      "Please enter a valid number.\n"
     ]
    }
   ],
   "source": [
    "attempts = 0\n",
    "max_attempts = 10\n",
    "\n",
    "while attempts < max_attempts:\n",
    "    try:\n",
    "        guess = int(input(\"Enter your guess: \"))\n",
    "        attempts += 1\n",
    "\n",
    "        if guess < number:\n",
    "            print(\"Too low!\")\n",
    "        elif guess > number:\n",
    "            print(\"Too high!\")\n",
    "        else:\n",
    "            print(f\"Congratulations! You guessed it in {attempts} attempts.\")\n",
    "            break\n",
    "    except ValueError:\n",
    "        print(\"Please enter a valid number.\")\n",
    "\n",
    "if attempts == max_attempts and guess != number:\n",
    "    print(f\"Sorry, you've reached the maximum number of attempts. The correct number was {number}.\")"
   ]
  }
 ],
 "metadata": {
  "kernelspec": {
   "display_name": "Python 3",
   "language": "python",
   "name": "python3"
  },
  "language_info": {
   "codemirror_mode": {
    "name": "ipython",
    "version": 3
   },
   "file_extension": ".py",
   "mimetype": "text/x-python",
   "name": "python",
   "nbconvert_exporter": "python",
   "pygments_lexer": "ipython3",
   "version": "3.13.3"
  }
 },
 "nbformat": 4,
 "nbformat_minor": 5
}
