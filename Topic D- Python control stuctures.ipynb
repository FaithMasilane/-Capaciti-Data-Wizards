{
 "cells": [
  {
   "cell_type": "code",
   "execution_count": 3,
   "id": "aea2069e",
   "metadata": {},
   "outputs": [],
   "source": [
    "#write a program in a Jupyter Notebook that checks a list of ages and prints who is \n",
    "# eligible for a scholarship (e.g., age > 18).\n",
    "\n",
    "# Names and ages of pupils who might be eligible for a scholarship\n",
    "\n",
    "\n",
    "students = [\n",
    "    {\"name\": \"Nomzamo\", \"age\": 17},\n",
    "    {\"name\": \"Thandeka\", \"age\": 18},\n",
    "    {\"name\": \"Faith\", \"age\": 16},\n",
    "    {\"name\": \"Asive\", \"age\": 20},\n",
    "    {\"name\": \"Nyeleti\", \"age\": 25},\n",
    "    {\"name\": \"Francis\", \"age\": 30},\n",
    "    {\"name\": \"Nandi\", \"age\": 23},\n",
    "]\n",
    "\n",
    "#define eligible age\n",
    "eligible_age = 18"
   ]
  },
  {
   "cell_type": "code",
   "execution_count": null,
   "id": "6c5d1536",
   "metadata": {},
   "outputs": [
    {
     "name": "stdout",
     "output_type": "stream",
     "text": [
      "Eligible students for scholarship:\n",
      "Nomzamo (age 17) is not eligible for the scholarship.\n",
      "Thandeka (age 18) is not eligible for the scholarship.\n",
      "Faith (age 16) is not eligible for the scholarship.\n",
      "Asive (age 20) is eligible for the scholarship.\n",
      "Nyeleti (age 25) is eligible for the scholarship.\n",
      "Francis (age 30) is eligible for the scholarship.\n",
      "Nandi (age 23) is eligible for the scholarship.\n"
     ]
    }
   ],
   "source": [
    "print(\"Eligible students for scholarship:\")\n",
    "\n",
    "for student in students:\n",
    "    name = student[\"name\"]\n",
    "    age = student[\"age\"]\n",
    "\n",
    "    if age > eligible_age:\n",
    "        print(f\"{name} (age {age}) is eligible for the scholarship.\")\n",
    "    else: \n",
    "        print(f\"{name} (age {age}) is not eligible for the scholarship.\")\n",
    "\n",
    "\n",
    "#Group: Data Wizards\n",
    "#Members:\n",
    "#1. Nomzamo Precious Dhlamini\n",
    "#2. Thandeka Christabel Lubisi \n",
    "#3. Xalamukani Faith Masilane\n",
    "#4. Nyeleti Mukoki\n"
   ]
  }
 ],
 "metadata": {
  "kernelspec": {
   "display_name": "Python 3",
   "language": "python",
   "name": "python3"
  },
  "language_info": {
   "codemirror_mode": {
    "name": "ipython",
    "version": 3
   },
   "file_extension": ".py",
   "mimetype": "text/x-python",
   "name": "python",
   "nbconvert_exporter": "python",
   "pygments_lexer": "ipython3",
   "version": "3.13.2"
  }
 },
 "nbformat": 4,
 "nbformat_minor": 5
}
